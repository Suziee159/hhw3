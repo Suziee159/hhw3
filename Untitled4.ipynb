{
 "cells": [
  {
   "cell_type": "code",
   "execution_count": 1,
   "id": "513e3346",
   "metadata": {},
   "outputs": [],
   "source": [
    "# Define the array of data (example: monthly sales data)\n",
    "data = [100, 120, 130, 140, 150, 170, 180, 190, 200, 210, 220, 230]\n"
   ]
  },
  {
   "cell_type": "code",
   "execution_count": 2,
   "id": "1ea1f2e1",
   "metadata": {},
   "outputs": [],
   "source": [
    "# Define the function to calculate the mean of the array\n",
    "def mean(data):\n",
    "    return sum(data) / len(data)"
   ]
  },
  {
   "cell_type": "code",
   "execution_count": 3,
   "id": "24122eb2",
   "metadata": {},
   "outputs": [],
   "source": [
    "# Calculate the mean of the data\n",
    "mean_data = mean(data)\n"
   ]
  },
  {
   "cell_type": "code",
   "execution_count": 4,
   "id": "53218e61",
   "metadata": {},
   "outputs": [
    {
     "name": "stdout",
     "output_type": "stream",
     "text": [
      "Mean of data:  170.0\n"
     ]
    }
   ],
   "source": [
    "# Print the mean of the data\n",
    "print(\"Mean of data: \", mean_data)\n"
   ]
  },
  {
   "cell_type": "code",
   "execution_count": 5,
   "id": "89f0d672",
   "metadata": {},
   "outputs": [],
   "source": [
    "# Define the function to calculate the standard deviation of the array\n",
    "def standard_deviation(data):\n",
    "    mean_data = mean(data)\n",
    "    variance = sum([(x-mean_data)**2 for x in data]) / len(data)\n",
    "    return variance ** 0.5\n"
   ]
  },
  {
   "cell_type": "code",
   "execution_count": 6,
   "id": "4d0ae4f9",
   "metadata": {},
   "outputs": [],
   "source": [
    "# Calculate the standard deviation of the data\n",
    "std_dev = standard_deviation(data)"
   ]
  },
  {
   "cell_type": "code",
   "execution_count": 7,
   "id": "f34b9396",
   "metadata": {},
   "outputs": [
    {
     "name": "stdout",
     "output_type": "stream",
     "text": [
      "Standard deviation of data:  40.2077936060494\n"
     ]
    }
   ],
   "source": [
    "# Print the standard deviation of the data\n",
    "print(\"Standard deviation of data: \", std_dev)"
   ]
  },
  {
   "cell_type": "code",
   "execution_count": 8,
   "id": "24b28c26",
   "metadata": {},
   "outputs": [],
   "source": [
    "# Define the function to calculate the variance of the array\n",
    "def variance(data):\n",
    "    mean_data = mean(data)\n",
    "    variance = sum([(x-mean_data)**2 for x in data]) / len(data)\n",
    "    return variance"
   ]
  },
  {
   "cell_type": "code",
   "execution_count": 9,
   "id": "152d4855",
   "metadata": {},
   "outputs": [],
   "source": [
    "# Calculate the variance of the data\n",
    "var_data = variance(data)"
   ]
  },
  {
   "cell_type": "code",
   "execution_count": 10,
   "id": "be52372e",
   "metadata": {},
   "outputs": [
    {
     "name": "stdout",
     "output_type": "stream",
     "text": [
      "Variance of data:  1616.6666666666667\n"
     ]
    }
   ],
   "source": [
    "# Print the variance of the data\n",
    "print(\"Variance of data: \", var_data)"
   ]
  },
  {
   "cell_type": "code",
   "execution_count": null,
   "id": "800d07dc",
   "metadata": {},
   "outputs": [],
   "source": []
  }
 ],
 "metadata": {
  "kernelspec": {
   "display_name": "Python 3 (ipykernel)",
   "language": "python",
   "name": "python3"
  },
  "language_info": {
   "codemirror_mode": {
    "name": "ipython",
    "version": 3
   },
   "file_extension": ".py",
   "mimetype": "text/x-python",
   "name": "python",
   "nbconvert_exporter": "python",
   "pygments_lexer": "ipython3",
   "version": "3.9.13"
  }
 },
 "nbformat": 4,
 "nbformat_minor": 5
}
